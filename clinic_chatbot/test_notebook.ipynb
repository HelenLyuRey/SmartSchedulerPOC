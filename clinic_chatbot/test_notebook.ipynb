{
 "cells": [
  {
   "cell_type": "markdown",
   "id": "2facff50",
   "metadata": {},
   "source": [
    "## Test Models"
   ]
  },
  {
   "cell_type": "code",
   "execution_count": 1,
   "id": "89f02ff2",
   "metadata": {},
   "outputs": [],
   "source": [
    "from models import ConversationManager"
   ]
  },
  {
   "cell_type": "code",
   "execution_count": 2,
   "id": "7e14a429",
   "metadata": {},
   "outputs": [
    {
     "name": "stdout",
     "output_type": "stream",
     "text": [
      "Conversation ID: conv_1755136873\n",
      "Initial state: ConversationState.GREETING\n",
      "Missing fields: ['保單號碼', '可預約時間', '電話號碼']\n",
      "Is complete: False\n",
      "Summary: {'conversation_id': 'conv_1755136873', 'state': 'greeting', 'turn_count': 1, 'entities': {'booking_type': '体检', 'patient_info': {'name': '张三', 'age': 30, 'gender': None}, 'policy_number': None, 'available_time': {'date': None, 'time_slot': None}, 'phone_number': None}, 'missing_fields': ['保單號碼', '可預約時間', '電話號碼'], 'is_complete': False, 'available_slots_count': 0, 'selected_slot': None}\n"
     ]
    }
   ],
   "source": [
    "# Test conversation manager\n",
    "conv = ConversationManager()\n",
    "print(f\"Conversation ID: {conv.conversation_id}\")\n",
    "print(f\"Initial state: {conv.state}\")\n",
    "\n",
    "# Test adding messages\n",
    "conv.add_message(\"user\", \"我想预约看医生\")\n",
    "conv.add_message(\"assistant\", \"好的，我来帮您预约\")\n",
    "\n",
    "# Test entity updates\n",
    "conv.update_entities({\n",
    "    \"patient_info\": {\"name\": \"张三\", \"age\": 30},\n",
    "    \"booking_type\": \"体检\"\n",
    "})\n",
    "\n",
    "print(f\"Missing fields: {conv.entities.get_missing_fields()}\")\n",
    "print(f\"Is complete: {conv.entities.is_complete()}\")\n",
    "print(f\"Summary: {conv.get_summary()}\")"
   ]
  },
  {
   "cell_type": "markdown",
   "id": "11c15799",
   "metadata": {},
   "source": [
    "## Test Entity Extraction"
   ]
  },
  {
   "cell_type": "code",
   "execution_count": 1,
   "id": "ee49db88",
   "metadata": {},
   "outputs": [
    {
     "name": "stderr",
     "output_type": "stream",
     "text": [
      "c:\\Users\\ZZ013G738\\anaconda3\\envs\\smart-scheduler-poc\\lib\\site-packages\\tqdm\\auto.py:21: TqdmWarning: IProgress not found. Please update jupyter and ipywidgets. See https://ipywidgets.readthedocs.io/en/stable/user_install.html\n",
      "  from .autonotebook import tqdm as notebook_tqdm\n"
     ]
    }
   ],
   "source": [
    "from services.entity_extractor import EntityExtractor, SmartEntityMerger\n",
    "from models import ConversationManager, BookingEntities\n",
    "from utils.validators import validate_phone_number, validate_patient_info"
   ]
  },
  {
   "cell_type": "code",
   "execution_count": 2,
   "id": "e6b4d8cc",
   "metadata": {},
   "outputs": [
    {
     "name": "stdout",
     "output_type": "stream",
     "text": [
      "=== Testing Direct Utils Calls ===\n",
      "Direct phone validation: True, 98762217\n",
      "Patient validation: True, errors: []\n",
      "Normalized patient: {'name': '张三', 'age': 30, 'gender': '男'}\n"
     ]
    }
   ],
   "source": [
    "print(\"=== Testing Direct Utils Calls ===\")\n",
    "    \n",
    "# Direct calls to utils - simple and clean!\n",
    "valid, result = validate_phone_number(\"98762217\")\n",
    "print(f\"Direct phone validation: {valid}, {result}\")\n",
    "\n",
    "# Test composite validation\n",
    "patient_info = {\"name\": \"张三\", \"age\": 30, \"gender\": \"male\"}\n",
    "valid, errors = validate_patient_info(patient_info)\n",
    "print(f\"Patient validation: {valid}, errors: {errors}\")\n",
    "print(f\"Normalized patient: {patient_info}\")  # Shows normalized gender"
   ]
  },
  {
   "cell_type": "code",
   "execution_count": 3,
   "id": "0027f5de",
   "metadata": {},
   "outputs": [
    {
     "name": "stdout",
     "output_type": "stream",
     "text": [
      "\n",
      "=== Testing Simplified Entity Merger ===\n",
      "Merged entities: {'booking_type': '体检', 'patient_info': {'name': '张三', 'age': 30, 'gender': '男'}, 'policy_number': 'ABC123456', 'available_time': {'date': None, 'time_slot': None}, 'phone_number': '96236612'}\n",
      "Validation errors: []\n",
      "Missing fields: ['可預約時間']\n"
     ]
    }
   ],
   "source": [
    "print(\"\\n=== Testing Simplified Entity Merger ===\")\n",
    "merger = SmartEntityMerger()\n",
    "entities = BookingEntities()\n",
    "\n",
    "new_entities = {\n",
    "    \"booking_type\": \"体检\",\n",
    "    \"patient_info\": {\"name\": \"张三\", \"age\": 30, \"gender\": \"male\"},\n",
    "    \"phone_number\": \"96236612\",\n",
    "    \"policy_number\": \"ABC123456\"\n",
    "}\n",
    "\n",
    "# Clean merge with direct validation\n",
    "merged, validation_errors = merger.merge_entities(entities, new_entities)\n",
    "print(f\"Merged entities: {merged.to_dict()}\")\n",
    "print(f\"Validation errors: {validation_errors}\")\n",
    "print(f\"Missing fields: {merged.get_missing_fields()}\")"
   ]
  },
  {
   "cell_type": "code",
   "execution_count": null,
   "id": "7f003a7f",
   "metadata": {},
   "outputs": [],
   "source": []
  },
  {
   "cell_type": "code",
   "execution_count": null,
   "id": "6cdba65f",
   "metadata": {},
   "outputs": [],
   "source": []
  }
 ],
 "metadata": {
  "kernelspec": {
   "display_name": "smart-scheduler-poc",
   "language": "python",
   "name": "python3"
  },
  "language_info": {
   "codemirror_mode": {
    "name": "ipython",
    "version": 3
   },
   "file_extension": ".py",
   "mimetype": "text/x-python",
   "name": "python",
   "nbconvert_exporter": "python",
   "pygments_lexer": "ipython3",
   "version": "3.10.18"
  }
 },
 "nbformat": 4,
 "nbformat_minor": 5
}
